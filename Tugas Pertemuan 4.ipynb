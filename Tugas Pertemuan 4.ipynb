{
 "cells": [
  {
   "cell_type": "markdown",
   "id": "e0717a06-f529-42ce-8640-bb8bee728803",
   "metadata": {},
   "source": [
    "### Nama : Hana Intan Wahyu Wijayanti\n",
    "### NIM  : 200601110025\n",
    "#### Latihan"
   ]
  },
  {
   "cell_type": "markdown",
   "id": "a3eb2194-83aa-4b23-aebc-08ca56a52c60",
   "metadata": {},
   "source": [
    "1. Buatlah program untuk menginputkan dua buah bilangan bulat, kemudian mencetak salah satu bilangan yang nilainya terbesar!"
   ]
  },
  {
   "cell_type": "code",
   "execution_count": 1,
   "id": "e981f065-bf77-4ab1-b9f4-672f2d17c1dc",
   "metadata": {},
   "outputs": [
    {
     "name": "stdout",
     "output_type": "stream",
     "text": [
      "Mencari Nilai Terbesar\n",
      "====================\n"
     ]
    },
    {
     "name": "stdin",
     "output_type": "stream",
     "text": [
      "Masukkan nilai a:  9\n",
      "Masukkan nilai b:  8\n"
     ]
    },
    {
     "name": "stdout",
     "output_type": "stream",
     "text": [
      "9\n"
     ]
    }
   ],
   "source": [
    "print (\"Mencari Nilai Terbesar\")\n",
    "print (\"=\"*20)\n",
    "a = int(input(\"Masukkan nilai a: \"))\n",
    "b = int(input(\"Masukkan nilai b: \"))\n",
    "if a>b:\n",
    "    print(a)\n",
    "else:\n",
    "    print(b)\n"
   ]
  },
  {
   "cell_type": "markdown",
   "id": "9967250c-507e-4988-a824-44a192fe4b75",
   "metadata": {},
   "source": [
    "atau"
   ]
  },
  {
   "cell_type": "code",
   "execution_count": 3,
   "id": "990f7fbb-77a9-4086-9e9f-65ef2a4a9fb0",
   "metadata": {},
   "outputs": [],
   "source": [
    "def maks(a,b):\n",
    "        if a>b:\n",
    "                return a\n",
    "        else:\n",
    "                return b"
   ]
  },
  {
   "cell_type": "code",
   "execution_count": 4,
   "id": "cd3fec5c-5590-40cc-8de9-8e4222a0d56b",
   "metadata": {},
   "outputs": [
    {
     "data": {
      "text/plain": [
       "8"
      ]
     },
     "execution_count": 4,
     "metadata": {},
     "output_type": "execute_result"
    }
   ],
   "source": [
    "maks(6,8)"
   ]
  },
  {
   "cell_type": "markdown",
   "id": "7e53c985-4880-4f30-9494-5ded435c04fa",
   "metadata": {},
   "source": [
    "2. Pada akhir semester seorang dosen menghitung nilai akhir dari mahasiswa yang terdiri dari nilai uas, uts, kuis, dan tugas. Nilai akhir didapatkan dari 40% nilai uas, 30% nilai uts, 10% nilai kuis, dan 20% nilai tugas. Jika nilai akhir dari mahasiswa di bawah 65 maka mahasiswa tersebut akan mendapatkan remidi. Buatlah program untuk membantu mengetahui mahasiswa yang mendapatkan remidi berdasarkan nilai akhir yang didapatkannya!"
   ]
  },
  {
   "cell_type": "code",
   "execution_count": 5,
   "id": "6a93fc4a-c318-4f22-849f-ce29a75641c7",
   "metadata": {},
   "outputs": [
    {
     "name": "stdout",
     "output_type": "stream",
     "text": [
      "Nilai Akhir Mahasiswa\n",
      "=========================\n"
     ]
    },
    {
     "name": "stdin",
     "output_type": "stream",
     "text": [
      "Nama Mahasiswa:  Hana\n",
      "Masukkan nilai UAS  :  90\n",
      "Masukkan nilai UTS  :  90\n",
      "Masukkan nilai Kuis :  80\n",
      "Masukkan nilai Tugas:  70\n"
     ]
    },
    {
     "name": "stdout",
     "output_type": "stream",
     "text": [
      "Selamat Anda Lulus!\n"
     ]
    }
   ],
   "source": [
    "print (\"Nilai Akhir Mahasiswa\")\n",
    "print (\"=\"*25)\n",
    "\n",
    "NA = input(\"Nama Mahasiswa: \")\n",
    "A = int(input(\"Masukkan nilai UAS  : \"))\n",
    "B = int(input(\"Masukkan nilai UTS  : \"))\n",
    "C = int(input(\"Masukkan nilai Kuis : \"))\n",
    "D = int(input(\"Masukkan nilai Tugas: \"))\n",
    "\n",
    "NA = (A*40+B*30+C*10+D*20)/100\n",
    "\n",
    "if NA >= 65:\n",
    "    print(\"Selamat Anda Lulus!\")\n",
    "else:\n",
    "    print(\"Anda harus Remidi!Semangat:)\")"
   ]
  },
  {
   "cell_type": "markdown",
   "id": "7d101637-43cc-4a42-a527-a9b1c37c8885",
   "metadata": {},
   "source": [
    "3. Buatlah program kalkulator sederhana menggunakan Python. User akan memasukkan dua buah bilangan riil dan satu buah operator aritmatika (+, -, *, atau /), kemudian program akan mengoperasikan dua bilangan tersebut dengan operator yang sesuai"
   ]
  },
  {
   "cell_type": "code",
   "execution_count": 6,
   "id": "afe16232-7161-4ea7-8ee0-b2ab164843e0",
   "metadata": {},
   "outputs": [
    {
     "name": "stdout",
     "output_type": "stream",
     "text": [
      "Kalkulator Matematika\n",
      "=========================\n"
     ]
    },
    {
     "name": "stdin",
     "output_type": "stream",
     "text": [
      "Masukkan bilangan pertama:  80\n",
      "Masukkan Operator (+,-,*,/)    :  +\n",
      "Masukkan bilangan kedua  :  90\n"
     ]
    },
    {
     "name": "stdout",
     "output_type": "stream",
     "text": [
      "Hasil operasi dari 80.0+90.0 = 170.0\n"
     ]
    }
   ],
   "source": [
    "print (\"Kalkulator Matematika\")\n",
    "print (\"=\"*25)\n",
    "\n",
    "a = float(input(\"Masukkan bilangan pertama: \"))\n",
    "b = input(\"Masukkan Operator (+,-,*,/)    : \")\n",
    "c = float(input(\"Masukkan bilangan kedua  : \"))\n",
    "\n",
    "if b == \"+\":\n",
    "    hasil = a+c\n",
    "    print(f\"Hasil operasi dari {a}+{c} = {hasil}\")\n",
    "elif b == \"-\":\n",
    "    hasil = a-c\n",
    "    print(f\"Hasil operasi dari {a}-{c} = {hasil}\")\n",
    "elif b == \"*\":\n",
    "    hasil = a*c\n",
    "    print(f\"Hasil operasi dari {a}*{c} = {hasil}\")\n",
    "elif b == \"/\":\n",
    "    hasil = a/c\n",
    "    print(f\"Hasil operasi dari {a}/{c} = {hasil}\")\n",
    "else:\n",
    "    print(\"Tidak valid\")"
   ]
  },
  {
   "cell_type": "code",
   "execution_count": null,
   "id": "530d27e5-b726-429a-9e84-13b543780d3d",
   "metadata": {},
   "outputs": [],
   "source": []
  }
 ],
 "metadata": {
  "kernelspec": {
   "display_name": "Python 3 (ipykernel)",
   "language": "python",
   "name": "python3"
  },
  "language_info": {
   "codemirror_mode": {
    "name": "ipython",
    "version": 3
   },
   "file_extension": ".py",
   "mimetype": "text/x-python",
   "name": "python",
   "nbconvert_exporter": "python",
   "pygments_lexer": "ipython3",
   "version": "3.10.2"
  }
 },
 "nbformat": 4,
 "nbformat_minor": 5
}
