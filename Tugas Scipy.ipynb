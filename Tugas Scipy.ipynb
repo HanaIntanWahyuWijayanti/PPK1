{
 "cells": [
  {
   "cell_type": "markdown",
   "id": "1231d36f-565f-49c2-aeca-3b9587331ad3",
   "metadata": {},
   "source": [
    "### Nama : Hana Intan Wahyu Wijayanti\n",
    "### NIM : 200601110025\n"
   ]
  },
  {
   "cell_type": "markdown",
   "id": "dd95a76f-0f2e-434e-b8fb-cea7662238a9",
   "metadata": {},
   "source": [
    "1. Hasil dari 142 - $\\sqrt(2*5)^2$ yaitu"
   ]
  },
  {
   "cell_type": "code",
   "execution_count": 20,
   "id": "9e4c4ccb-7c08-481f-ba25-ee64edafc35c",
   "metadata": {},
   "outputs": [
    {
     "data": {
      "text/latex": [
       "$\\displaystyle 132$"
      ],
      "text/plain": [
       "132"
      ]
     },
     "execution_count": 20,
     "metadata": {},
     "output_type": "execute_result"
    }
   ],
   "source": [
    "import sympy\n",
    "a=142\n",
    "b=sympy.sqrt((2*5)**2)\n",
    "simplify(a-b)"
   ]
  },
  {
   "cell_type": "markdown",
   "id": "ff05a7a1-2a93-4667-92b3-1d06acce39f7",
   "metadata": {},
   "source": [
    "2. Hasil dari Integral $5x^2$ dx ="
   ]
  },
  {
   "cell_type": "code",
   "execution_count": 31,
   "id": "ee142756-ceb8-4906-b305-7003c361d6e6",
   "metadata": {},
   "outputs": [
    {
     "data": {
      "text/latex": [
       "$\\displaystyle \\frac{5 x^{3}}{3}$"
      ],
      "text/plain": [
       "5*x**3/3"
      ]
     },
     "execution_count": 31,
     "metadata": {},
     "output_type": "execute_result"
    }
   ],
   "source": [
    "from sympy import *\n",
    "x=symbols('x')\n",
    "integrate(5*x**2,x)"
   ]
  },
  {
   "cell_type": "markdown",
   "id": "4f329cfb-cb2e-44b7-a945-b32278c2fc1f",
   "metadata": {},
   "source": [
    "3. Hasil dari integral $sin(4x-2)$ dx ="
   ]
  },
  {
   "cell_type": "code",
   "execution_count": 34,
   "id": "b70a5602-b50e-4c4d-87ec-4042e721f4f3",
   "metadata": {},
   "outputs": [
    {
     "data": {
      "text/latex": [
       "$\\displaystyle - \\frac{\\cos{\\left(4 x - 2 \\right)}}{4}$"
      ],
      "text/plain": [
       "-cos(4*x - 2)/4"
      ]
     },
     "execution_count": 34,
     "metadata": {},
     "output_type": "execute_result"
    }
   ],
   "source": [
    "from sympy import *\n",
    "x=symbols('x')\n",
    "integrate(sin(4*x-2))"
   ]
  },
  {
   "cell_type": "markdown",
   "id": "8bb9257a-70ee-4877-9f8e-b90682b6fae7",
   "metadata": {},
   "source": [
    "4. Hasil dari $\\sqrt16$"
   ]
  },
  {
   "cell_type": "code",
   "execution_count": 35,
   "id": "16faaa27-f928-4743-9f88-b894821e2f21",
   "metadata": {},
   "outputs": [
    {
     "data": {
      "text/latex": [
       "$\\displaystyle 4$"
      ],
      "text/plain": [
       "4"
      ]
     },
     "execution_count": 35,
     "metadata": {},
     "output_type": "execute_result"
    }
   ],
   "source": [
    "import sympy\n",
    "sympy.sqrt(16)"
   ]
  },
  {
   "cell_type": "markdown",
   "id": "b85c0bee-2600-4682-85d7-35f8157c7053",
   "metadata": {},
   "source": [
    "5. Turunan pertama fungsi $f(x)=(4x^2-12x)$"
   ]
  },
  {
   "cell_type": "code",
   "execution_count": 36,
   "id": "b80e9f5b-bb63-4b84-9754-a0a2af64fe96",
   "metadata": {},
   "outputs": [
    {
     "data": {
      "text/latex": [
       "$\\displaystyle 8 x - 12$"
      ],
      "text/plain": [
       "8*x - 12"
      ]
     },
     "execution_count": 36,
     "metadata": {},
     "output_type": "execute_result"
    }
   ],
   "source": [
    "from sympy import *\n",
    "x=symbols('x')\n",
    "diff(4*x**2-12*x)"
   ]
  },
  {
   "cell_type": "code",
   "execution_count": null,
   "id": "172f451f-68f5-4b69-9c5d-30e6230cb937",
   "metadata": {},
   "outputs": [],
   "source": []
  }
 ],
 "metadata": {
  "kernelspec": {
   "display_name": "Python 3 (ipykernel)",
   "language": "python",
   "name": "python3"
  },
  "language_info": {
   "codemirror_mode": {
    "name": "ipython",
    "version": 3
   },
   "file_extension": ".py",
   "mimetype": "text/x-python",
   "name": "python",
   "nbconvert_exporter": "python",
   "pygments_lexer": "ipython3",
   "version": "3.10.2"
  }
 },
 "nbformat": 4,
 "nbformat_minor": 5
}
