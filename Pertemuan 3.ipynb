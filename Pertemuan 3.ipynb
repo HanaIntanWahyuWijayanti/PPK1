{
 "cells": [
  {
   "cell_type": "markdown",
   "id": "2506ec91-6759-4405-84ad-8af71cd75c28",
   "metadata": {},
   "source": [
    "# Tipe Koleksi"
   ]
  },
  {
   "cell_type": "markdown",
   "id": "f1c059e0-8219-4370-925d-4af6158c0683",
   "metadata": {
    "tags": []
   },
   "source": [
    "# 3.1 Tipe List\n",
    "List merupakan objek yang bersifat mutabel atau nilainya dapat diubah. Setiap objek atau elemen yang ada didalam list harus dibatasi menggunakan tanda koma (,), tapi tidak harus sejenis. Artinya, list bisa berisi beberapa objek yang berasal dari tipe berlainan, misal str,int dan sebagainya. Pada struktur data list, elemen-elemen diindeks berdasarkan bilangan positif maupun negatif tergantung dari arah mana elemen-elemen tersebut akan diakses.\n",
    "# Algorithm 3.1"
   ]
  },
  {
   "cell_type": "code",
   "execution_count": 1,
   "id": "71cf4151-b30f-458a-89d5-21d08c2a3a8c",
   "metadata": {},
   "outputs": [
    {
     "data": {
      "text/plain": [
       "[10, 8, 12, 6, 15]"
      ]
     },
     "execution_count": 1,
     "metadata": {},
     "output_type": "execute_result"
    }
   ],
   "source": [
    "list1=[100,200,300,400]\n",
    "list2=[1,'Pemrograman Komputer',12000.00]\n",
    "list=[10,8,12,6,15]\n",
    "list"
   ]
  },
  {
   "cell_type": "code",
   "execution_count": 2,
   "id": "197b4653-4fa1-4260-8a93-1cc1e6ed7a0d",
   "metadata": {},
   "outputs": [
    {
     "data": {
      "text/plain": [
       "[10, 8, 12, 6, 15]"
      ]
     },
     "execution_count": 2,
     "metadata": {},
     "output_type": "execute_result"
    }
   ],
   "source": [
    "len(list)#Menghitung banyaknya elemen didalam list 5\n",
    "li=[10,8,12,6,15]\n",
    "li"
   ]
  },
  {
   "cell_type": "code",
   "execution_count": 3,
   "id": "ebb3aa79-a4ee-49c3-ba54-22f38b6b129c",
   "metadata": {},
   "outputs": [
    {
     "data": {
      "text/plain": [
       "(10, 8, 12, 6, 15)"
      ]
     },
     "execution_count": 3,
     "metadata": {},
     "output_type": "execute_result"
    }
   ],
   "source": [
    "li[0],li[1],li[2],li[3],li[4]"
   ]
  },
  {
   "cell_type": "code",
   "execution_count": 4,
   "id": "a1895467-2e94-4d74-8e5d-43560a759bbd",
   "metadata": {},
   "outputs": [
    {
     "data": {
      "text/plain": [
       "(10, 8, 12, 6, 15)"
      ]
     },
     "execution_count": 4,
     "metadata": {},
     "output_type": "execute_result"
    }
   ],
   "source": [
    "li[-5],li[-4],li[-3],li[-2],li[-1]"
   ]
  },
  {
   "cell_type": "code",
   "execution_count": 5,
   "id": "ee2cf4ee-0115-48d7-a280-baf664aed281",
   "metadata": {},
   "outputs": [
    {
     "data": {
      "text/plain": [
       "[10, 8, 12, 6, 15, 20, 25, 100, 200, 300]"
      ]
     },
     "execution_count": 5,
     "metadata": {},
     "output_type": "execute_result"
    }
   ],
   "source": [
    "li.append(20)#menambahkan elemen dalam list\n",
    "li.append(25)\n",
    "li=[10,8,12,6,15,20,25]\n",
    "li.extend([100,200,300])#menambahkan list dalam sebuah list\n",
    "li"
   ]
  },
  {
   "cell_type": "code",
   "execution_count": 6,
   "id": "07ac8b95-9a85-424b-959f-7690d4721585",
   "metadata": {},
   "outputs": [
    {
     "data": {
      "text/plain": [
       "[99, 77, 12, 6, 15, 20, 25, 100, 200, 300]"
      ]
     },
     "execution_count": 6,
     "metadata": {},
     "output_type": "execute_result"
    }
   ],
   "source": [
    "li[0]=99\n",
    "li[1]=77\n",
    "li"
   ]
  },
  {
   "cell_type": "code",
   "execution_count": 7,
   "id": "517eefb8-2a02-4ec9-8026-396a3e524430",
   "metadata": {},
   "outputs": [
    {
     "data": {
      "text/plain": [
       "[77, 12, 6, 20, 25, 100, 200]"
      ]
     },
     "execution_count": 7,
     "metadata": {},
     "output_type": "execute_result"
    }
   ],
   "source": [
    "li.remove(99)#menghapus elemen di dalam list\n",
    "li.remove(300)\n",
    "li.remove(15)\n",
    "li"
   ]
  },
  {
   "cell_type": "code",
   "execution_count": 8,
   "id": "9f37ea50-b6c3-4bd6-89d1-c38d36383037",
   "metadata": {},
   "outputs": [
    {
     "data": {
      "text/plain": [
       "[]"
      ]
     },
     "execution_count": 8,
     "metadata": {},
     "output_type": "execute_result"
    }
   ],
   "source": [
    "li.clear()#Menghapus Semuaa elemen didalam list\n",
    "li"
   ]
  },
  {
   "cell_type": "markdown",
   "id": "ba67cc91-86a2-4f05-9771-b8b99e21a57b",
   "metadata": {},
   "source": [
    "# 3.2 Tipe Dictionary\n",
    "Dictionary (kamus) atau sering juga disebut yipe mapping merupakan objek yang berisi daftar pasangan kunci dan nilai (key-value pair). Pada struktur data dictionary, elemen-elemen akan diindeks berdasarkan kuncinya. Objek yang dijadikan sebagai kunci dapat berasal dari tipe apa saja, tapi umumnya berupa string atau berupa bilangan. Dictionary menggunakan {}, dan setiap pasangan kunci dan nilai harus dipisahkan menggunakan tanda (:).\n",
    "# Algorithm 3.2"
   ]
  },
  {
   "cell_type": "code",
   "execution_count": 9,
   "id": "2465e7f9-2c2e-445a-8e00-9f84e4147b85",
   "metadata": {},
   "outputs": [
    {
     "data": {
      "text/plain": [
       "{'A': 4, 'B': 3, 'C': 2, 'D': 1, 'E': 0}"
      ]
     },
     "execution_count": 9,
     "metadata": {},
     "output_type": "execute_result"
    }
   ],
   "source": [
    "na={'A':4,'B':3,'C':2,'D':1,'E':0}\n",
    "na"
   ]
  },
  {
   "cell_type": "code",
   "execution_count": 10,
   "id": "e64d2fc9-79a2-4387-904d-0f09d474c533",
   "metadata": {},
   "outputs": [
    {
     "data": {
      "text/plain": [
       "4"
      ]
     },
     "execution_count": 10,
     "metadata": {},
     "output_type": "execute_result"
    }
   ],
   "source": [
    "na.keys()#Menampilkan Kata Kunci(key) dalam Dictionary dict_keys(['A','B','C','D','E'])\n",
    "na.values()#Menampilkan Kata Value dalam Dictionary dict_values([4,3,2,1,0])\n",
    "na['A']"
   ]
  },
  {
   "cell_type": "code",
   "execution_count": 11,
   "id": "03d0830c-abea-46af-a5cd-3635e93b78c8",
   "metadata": {},
   "outputs": [
    {
     "data": {
      "text/plain": [
       "3"
      ]
     },
     "execution_count": 11,
     "metadata": {},
     "output_type": "execute_result"
    }
   ],
   "source": [
    "na['B']"
   ]
  },
  {
   "cell_type": "code",
   "execution_count": 12,
   "id": "1bd87332-95ee-4391-9281-042d7d62f33b",
   "metadata": {},
   "outputs": [
    {
     "data": {
      "text/plain": [
       "2"
      ]
     },
     "execution_count": 12,
     "metadata": {},
     "output_type": "execute_result"
    }
   ],
   "source": [
    "na['C']"
   ]
  },
  {
   "cell_type": "code",
   "execution_count": 13,
   "id": "802163f3-28ad-4502-a116-0596446b9151",
   "metadata": {},
   "outputs": [
    {
     "data": {
      "text/plain": [
       "'kucing'"
      ]
     },
     "execution_count": 13,
     "metadata": {},
     "output_type": "execute_result"
    }
   ],
   "source": [
    "kamus={'mouse':'tikus','cat':'kucing'}\n",
    "kamus['cat']"
   ]
  },
  {
   "cell_type": "code",
   "execution_count": 14,
   "id": "6f0f1e0f-d923-45f8-9a28-45ef60379371",
   "metadata": {},
   "outputs": [
    {
     "data": {
      "text/plain": [
       "dict_keys(['mouse', 'cat'])"
      ]
     },
     "execution_count": 14,
     "metadata": {},
     "output_type": "execute_result"
    }
   ],
   "source": [
    "kamus.keys()"
   ]
  },
  {
   "cell_type": "code",
   "execution_count": 15,
   "id": "4fea9e80-ff53-4b52-a813-0b6bdd572a9b",
   "metadata": {},
   "outputs": [
    {
     "data": {
      "text/plain": [
       "dict_values(['tikus', 'kucing'])"
      ]
     },
     "execution_count": 15,
     "metadata": {},
     "output_type": "execute_result"
    }
   ],
   "source": [
    "kamus.values()"
   ]
  },
  {
   "cell_type": "markdown",
   "id": "dba751a8-01b7-4680-ad6d-698bcf9a8f41",
   "metadata": {},
   "source": [
    "# 3.3 Tipe Tuple\n",
    "Tuple adalah tipe koleksi yang hampir sama dengan list. Perbedaannya tuple dapat diubah baik nilainya maupun jumlah elemennya (immutable). Tuple bersifat konstan. Tuple menggunkan tanda ().\n",
    "# Algorithm 3.3"
   ]
  },
  {
   "cell_type": "code",
   "execution_count": 16,
   "id": "5601ceb6-b631-4798-92ca-5eca6e9507de",
   "metadata": {},
   "outputs": [
    {
     "data": {
      "text/plain": [
       "10"
      ]
     },
     "execution_count": 16,
     "metadata": {},
     "output_type": "execute_result"
    }
   ],
   "source": [
    "t=(10,20,30)\n",
    "t[0]"
   ]
  },
  {
   "cell_type": "code",
   "execution_count": 17,
   "id": "93021e68-bc21-4812-b8fb-6086ecb0392f",
   "metadata": {},
   "outputs": [
    {
     "data": {
      "text/plain": [
       "20"
      ]
     },
     "execution_count": 17,
     "metadata": {},
     "output_type": "execute_result"
    }
   ],
   "source": [
    "t[1]"
   ]
  },
  {
   "cell_type": "code",
   "execution_count": 18,
   "id": "bd907f56-2342-44d5-ab6a-eb969b8666ca",
   "metadata": {},
   "outputs": [
    {
     "data": {
      "text/plain": [
       "30"
      ]
     },
     "execution_count": 18,
     "metadata": {},
     "output_type": "execute_result"
    }
   ],
   "source": [
    "t[2]"
   ]
  },
  {
   "cell_type": "code",
   "execution_count": 19,
   "id": "e4bd148d-e264-43f3-a87b-9354cb36c34f",
   "metadata": {},
   "outputs": [
    {
     "data": {
      "text/plain": [
       "(10, 20, 30)"
      ]
     },
     "execution_count": 19,
     "metadata": {},
     "output_type": "execute_result"
    }
   ],
   "source": [
    "t[-3],t[-2],t[-1]"
   ]
  },
  {
   "cell_type": "code",
   "execution_count": 20,
   "id": "3ac3a16f-a5d5-46cf-bef2-1d9691405ad5",
   "metadata": {},
   "outputs": [
    {
     "data": {
      "text/plain": [
       "3"
      ]
     },
     "execution_count": 20,
     "metadata": {},
     "output_type": "execute_result"
    }
   ],
   "source": [
    "len(t)#Menghitung banyaknya elemen didalam Tuple"
   ]
  },
  {
   "cell_type": "markdown",
   "id": "becc024c-3725-4acd-879e-38652f1b7d91",
   "metadata": {},
   "source": [
    "# 3.4 Tipe Set\n",
    "Set(himpunan) adalah tipe koleksi yang setiap elemennya bersifat unik. Dengan demikian, ddidalam set tidak akan pernah ada duplikasi nilai elemen. Jika terdapat beberapa elemen yang nilainya sama, maka elemen-elemen tersebut akan diambil satu, sisanya secara otomatis dibuang. Set dibuat dengan menggunakan fungsi set () dengan parameter bisa berupa list, dictionary, tuple, maupun string.\n",
    "# Algorithm 3.4"
   ]
  },
  {
   "cell_type": "code",
   "execution_count": 21,
   "id": "bf8c8a30-e96f-4a2a-9004-8b88e1ee35f2",
   "metadata": {},
   "outputs": [
    {
     "data": {
      "text/plain": [
       "{10, 20, 30}"
      ]
     },
     "execution_count": 21,
     "metadata": {},
     "output_type": "execute_result"
    }
   ],
   "source": [
    "s=set([10,10,20,30,30,30])\n",
    "s"
   ]
  },
  {
   "cell_type": "code",
   "execution_count": 22,
   "id": "b23630a5-7294-4233-9dbd-9815c0af29e3",
   "metadata": {},
   "outputs": [
    {
     "data": {
      "text/plain": [
       "3"
      ]
     },
     "execution_count": 22,
     "metadata": {},
     "output_type": "execute_result"
    }
   ],
   "source": [
    "len(s)"
   ]
  },
  {
   "cell_type": "code",
   "execution_count": 23,
   "id": "4ca98105-35e2-437a-915f-97da5db62a4f",
   "metadata": {},
   "outputs": [
    {
     "data": {
      "text/plain": [
       "{10, 20, 30, 60}"
      ]
     },
     "execution_count": 23,
     "metadata": {},
     "output_type": "execute_result"
    }
   ],
   "source": [
    "s.add(60) #Menambahkan anggotan himpunan(set)\n",
    "s"
   ]
  },
  {
   "cell_type": "code",
   "execution_count": 24,
   "id": "d14504a8-a57b-420e-9237-196edd1c1a81",
   "metadata": {},
   "outputs": [
    {
     "data": {
      "text/plain": [
       "4"
      ]
     },
     "execution_count": 24,
     "metadata": {},
     "output_type": "execute_result"
    }
   ],
   "source": [
    "len(s)"
   ]
  },
  {
   "cell_type": "markdown",
   "id": "28234d5c-07d6-44b7-9b70-9d018d4cceb8",
   "metadata": {},
   "source": [
    "# Fungsi"
   ]
  },
  {
   "cell_type": "markdown",
   "id": "c287f413-3912-4260-a232-a3e14fb41797",
   "metadata": {},
   "source": [
    "# Algorithm 4.1"
   ]
  },
  {
   "cell_type": "code",
   "execution_count": 25,
   "id": "9fcde3fe-062c-45ac-8dcf-1909b291792e",
   "metadata": {},
   "outputs": [],
   "source": [
    "def kali(a,b):\n",
    "    c=a*b\n",
    "    return c#mengembalikan nilai ke baris pemanggil"
   ]
  },
  {
   "cell_type": "code",
   "execution_count": 26,
   "id": "49ca70f9-a207-4550-b986-a4e89a4665c8",
   "metadata": {},
   "outputs": [],
   "source": [
    "def tulis(s):\n",
    "    print(s)"
   ]
  },
  {
   "cell_type": "code",
   "execution_count": 27,
   "id": "fdc94adf-5d45-4114-b68d-543e5b327767",
   "metadata": {},
   "outputs": [
    {
     "data": {
      "text/plain": [
       "50"
      ]
     },
     "execution_count": 27,
     "metadata": {},
     "output_type": "execute_result"
    }
   ],
   "source": [
    "z=kali(10,5)\n",
    "z"
   ]
  },
  {
   "cell_type": "code",
   "execution_count": 28,
   "id": "67803dde-bb0b-4102-810f-d88268bb8de2",
   "metadata": {},
   "outputs": [
    {
     "name": "stdout",
     "output_type": "stream",
     "text": [
      "Pemrograman Komputer 1 dengan Python\n"
     ]
    }
   ],
   "source": [
    "tulis('Pemrograman Komputer 1 dengan Python')"
   ]
  },
  {
   "cell_type": "code",
   "execution_count": 29,
   "id": "434f8e8b-cbc5-47bd-8778-cf79cf31dca4",
   "metadata": {},
   "outputs": [
    {
     "name": "stdout",
     "output_type": "stream",
     "text": [
      "50\n"
     ]
    }
   ],
   "source": [
    "tulis(z)"
   ]
  },
  {
   "cell_type": "markdown",
   "id": "7e77fd71-80c0-4026-8bb7-4f0ab5824f64",
   "metadata": {},
   "source": [
    "# 4.1 Fungsi Global\n",
    "Fungsi Global adalah fungsi yang didefinisikan didalam suatu modul dan dapat dipanggil oleh fungsi lain, baik yang berada didalam modul yang sama maupun modul lain.\n",
    "# 4.2 Fungsi Lokal\n",
    "Fungsi Lokal atau fungsi bersarang (nested function) adalah fungsi yang didefinisikan di dalam fungsi lain. Fungsi lokal hanya akan dikenal oleh fungsi luar tempat fungsi lokal tersebut didefinisikan."
   ]
  },
  {
   "cell_type": "markdown",
   "id": "7ba8288f-386e-4ed9-b700-114367bf4f8c",
   "metadata": {},
   "source": [
    "# Algorithm 4.2"
   ]
  },
  {
   "cell_type": "code",
   "execution_count": 30,
   "id": "4f49903f-63f8-433c-aa94-04ff870deb72",
   "metadata": {},
   "outputs": [],
   "source": [
    "def persentase(a,b,c):\n",
    "    def hitungPersen(x):\n",
    "        total=a+b+c\n",
    "        return(x*100.0)/total\n",
    "    print(\"Persentase:%f\\t%f\\t%f\"%(hitungPersen(a),hitungPersen(b),hitungPersen(c)))"
   ]
  },
  {
   "cell_type": "code",
   "execution_count": 31,
   "id": "0221e863-10cd-41f6-b12a-525deb103a73",
   "metadata": {},
   "outputs": [
    {
     "name": "stdout",
     "output_type": "stream",
     "text": [
      "Persentase:33.333333\t33.333333\t33.333333\n"
     ]
    }
   ],
   "source": [
    "persentase(50,50,50)"
   ]
  },
  {
   "cell_type": "code",
   "execution_count": 32,
   "id": "6169d236-aaa8-45ba-b1ba-ee05f748a28c",
   "metadata": {},
   "outputs": [
    {
     "name": "stdout",
     "output_type": "stream",
     "text": [
      "Persentase:20.000000\t60.000000\t20.000000\n"
     ]
    }
   ],
   "source": [
    "persentase(30,90,30)"
   ]
  },
  {
   "cell_type": "markdown",
   "id": "e71f2013-7391-4fca-9b68-5f81ee023862",
   "metadata": {},
   "source": [
    "# Algorithm 4.3"
   ]
  },
  {
   "cell_type": "code",
   "execution_count": 33,
   "id": "e1680091-07ac-4318-ba5b-1521522fca1b",
   "metadata": {},
   "outputs": [
    {
     "data": {
      "text/plain": [
       "20"
      ]
     },
     "execution_count": 33,
     "metadata": {},
     "output_type": "execute_result"
    }
   ],
   "source": [
    "maks=lambda a,b:a if a>b else b\n",
    "maks(20,10)"
   ]
  },
  {
   "cell_type": "code",
   "execution_count": 34,
   "id": "c274511e-1253-4ebf-bed3-669149f380c8",
   "metadata": {},
   "outputs": [
    {
     "data": {
      "text/plain": [
       "200"
      ]
     },
     "execution_count": 34,
     "metadata": {},
     "output_type": "execute_result"
    }
   ],
   "source": [
    "maks(100,200)"
   ]
  },
  {
   "cell_type": "markdown",
   "id": "d772e506-fa02-43bb-9311-59f7dd2e540b",
   "metadata": {},
   "source": [
    "# Fungsi Lambda\n",
    "Fungsi lambda adalah suatu ekspresi untuk menangani tugas-tugas pemrograman yang sederhana. Fungsi jenis ini sering dikenal dengan fungsi\n",
    "tanpa nama (anonymous function) dan dibuat menggunakan kata kunci\n",
    "lambda. Terdapat beberapa hal yang tidak dapat dilakukan pada fungsi lambda,\n",
    "sehingga kita perlu menggunakan fungsi normal. Jika menyertakan struktur pengulangan for maupun while, perintah-perintah nonekspresi, dan perintah yang berjumlah lebih dari satu, maka tidak\n",
    "dapat menggunakan fungsi lambda. Fungsi lambda biasanya diperankan\n",
    "sebagai parameter dari suatu fungsi lain (fungsi callback)."
   ]
  },
  {
   "cell_type": "markdown",
   "id": "b6d11d3f-3e87-47e2-a164-9af1a66c9b10",
   "metadata": {},
   "source": [
    "# Algorithm 4.4"
   ]
  },
  {
   "cell_type": "code",
   "execution_count": 35,
   "id": "7c13d062-ffad-44dd-a307-13f22bfabc3e",
   "metadata": {},
   "outputs": [],
   "source": [
    "def maks(a,b):\n",
    "    if a>b:\n",
    "        return a\n",
    "    else:\n",
    "        return b"
   ]
  },
  {
   "cell_type": "code",
   "execution_count": 36,
   "id": "15baa3ea-1118-432b-9874-688c1a0f2143",
   "metadata": {},
   "outputs": [
    {
     "data": {
      "text/plain": [
       "20"
      ]
     },
     "execution_count": 36,
     "metadata": {},
     "output_type": "execute_result"
    }
   ],
   "source": [
    "maks(20,10)"
   ]
  },
  {
   "cell_type": "code",
   "execution_count": 37,
   "id": "4b6deee9-c625-49ab-b7c1-f9cd47ed2c16",
   "metadata": {},
   "outputs": [
    {
     "data": {
      "text/plain": [
       "200"
      ]
     },
     "execution_count": 37,
     "metadata": {},
     "output_type": "execute_result"
    }
   ],
   "source": [
    "maks(100,200)"
   ]
  },
  {
   "cell_type": "markdown",
   "id": "d0d0fe8f-df1b-4218-bb72-ac62aa80a687",
   "metadata": {},
   "source": [
    "# 4.4 Parameter Default\n",
    "Parameter default atau parameter\n",
    "opsional adalah suatu parameter fungsi yang dapat memiliki nilai default pada saat fungsi tersebut didefinisikan. Proses pengisisan nilai ke dalam parameter dilakukan menggunakan operator penugasan (=). Cara ini, dapat memanggil fungsi tanpa menyertakan nilai untuk parameter bersangkutan. Parameter default harus ditempatkan pada urutan paling akhir dari daftar parameter lain."
   ]
  },
  {
   "cell_type": "markdown",
   "id": "0728e358-a3be-44b0-9290-a8d047b8f88f",
   "metadata": {},
   "source": [
    "# Algorithm 4.5"
   ]
  },
  {
   "cell_type": "code",
   "execution_count": 38,
   "id": "d7393ec9-dd60-4e0f-8334-706aafff31bf",
   "metadata": {},
   "outputs": [],
   "source": [
    "def tulis (s,gantibaris=True):\n",
    "    if not gantibaris:\n",
    "        print(s,end='')\n",
    "    else:\n",
    "        print(s)"
   ]
  },
  {
   "cell_type": "code",
   "execution_count": 39,
   "id": "d5dde90d-e9c8-4a3e-8d91-5242de63a73e",
   "metadata": {},
   "outputs": [
    {
     "name": "stdout",
     "output_type": "stream",
     "text": [
      "Phyton\n"
     ]
    }
   ],
   "source": [
    "tulis('Phyton')"
   ]
  },
  {
   "cell_type": "code",
   "execution_count": 40,
   "id": "39a6c256-a069-475e-84ab-56822563c158",
   "metadata": {},
   "outputs": [
    {
     "name": "stdout",
     "output_type": "stream",
     "text": [
      "Phyton dan Ruby\n"
     ]
    }
   ],
   "source": [
    "tulis('Phyton',False);tulis(' dan Ruby')"
   ]
  },
  {
   "cell_type": "code",
   "execution_count": 41,
   "id": "c6c7107e-3645-47cc-a0e2-b2101c24418e",
   "metadata": {},
   "outputs": [
    {
     "name": "stdout",
     "output_type": "stream",
     "text": [
      "Phyton\n",
      "Ruby\n"
     ]
    }
   ],
   "source": [
    "tulis('Phyton');tulis('Ruby')"
   ]
  },
  {
   "cell_type": "code",
   "execution_count": null,
   "id": "f0843e12-e029-4409-8078-b7a703e673a0",
   "metadata": {},
   "outputs": [],
   "source": []
  }
 ],
 "metadata": {
  "kernelspec": {
   "display_name": "Python 3 (ipykernel)",
   "language": "python",
   "name": "python3"
  },
  "language_info": {
   "codemirror_mode": {
    "name": "ipython",
    "version": 3
   },
   "file_extension": ".py",
   "mimetype": "text/x-python",
   "name": "python",
   "nbconvert_exporter": "python",
   "pygments_lexer": "ipython3",
   "version": "3.10.2"
  }
 },
 "nbformat": 4,
 "nbformat_minor": 5
}
