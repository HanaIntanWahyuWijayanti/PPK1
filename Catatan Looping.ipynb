{
 "cells": [
  {
   "cell_type": "code",
   "execution_count": 2,
   "id": "39f81d24-8e06-474d-90b9-8d0424757ddc",
   "metadata": {},
   "outputs": [
    {
     "name": "stdout",
     "output_type": "stream",
     "text": [
      "0\n",
      "1\n",
      "2\n",
      "3\n",
      "4\n"
     ]
    }
   ],
   "source": [
    "count=0\n",
    "while count <5:\n",
    "    print(count)\n",
    "    count += 1"
   ]
  },
  {
   "cell_type": "code",
   "execution_count": 3,
   "id": "168c3eb8-02b8-4225-9fac-81ddf49da593",
   "metadata": {},
   "outputs": [
    {
     "name": "stdout",
     "output_type": "stream",
     "text": [
      "2\n",
      "3\n",
      "5\n",
      "7\n"
     ]
    }
   ],
   "source": [
    "primes = [2,3,5,7]\n",
    "for prime in primes:\n",
    "    print(prime)"
   ]
  },
  {
   "cell_type": "code",
   "execution_count": 9,
   "id": "97823c41-a1e6-4d7b-af98-a0cbb20a81ae",
   "metadata": {},
   "outputs": [
    {
     "name": "stdin",
     "output_type": "stream",
     "text": [
      "Masukkan nilai yang akan dihitung:  7\n"
     ]
    },
    {
     "data": {
      "text/plain": [
       "5040"
      ]
     },
     "execution_count": 9,
     "metadata": {},
     "output_type": "execute_result"
    }
   ],
   "source": [
    "def faktorial (n):\n",
    "    fac = 1\n",
    "    i = 1\n",
    "    while i <= n:\n",
    "        fac = fac*i\n",
    "        i += 1\n",
    "    return fac\n",
    "angka = int(input(\"Masukkan nilai yang akan dihitung: \"))\n",
    "faktorial(angka)"
   ]
  },
  {
   "cell_type": "code",
   "execution_count": 10,
   "id": "ba70c3e8-001b-421e-a880-33ddffc093b3",
   "metadata": {},
   "outputs": [
    {
     "name": "stdout",
     "output_type": "stream",
     "text": [
      "1\n",
      "11\n",
      "31\n",
      "61\n",
      "101\n",
      "151\n"
     ]
    }
   ],
   "source": [
    "numbers = [1,10,20,30,40,50]\n",
    "sum = 0\n",
    "for number in numbers:\n",
    "    sum += number\n",
    "    print(sum)\n"
   ]
  },
  {
   "cell_type": "code",
   "execution_count": 18,
   "id": "1ed43538-b058-46c3-9c3f-f70fe8b5287a",
   "metadata": {},
   "outputs": [
    {
     "name": "stdin",
     "output_type": "stream",
     "text": [
      "Masukkan Angka:  40\n",
      "Masukkan Angka:  80\n"
     ]
    }
   ],
   "source": [
    "b = 0\n",
    "while True:\n",
    "    angka = int(input(\"Masukkan Angka: \"))\n",
    "    b += angka\n",
    "    if b > 50:\n",
    "        break \n",
    "        print(\"Angka berhenti pada jumlah: \"+b)"
   ]
  },
  {
   "cell_type": "code",
   "execution_count": null,
   "id": "335dd626-9e0f-4361-bf64-1391d562a00b",
   "metadata": {},
   "outputs": [],
   "source": []
  }
 ],
 "metadata": {
  "kernelspec": {
   "display_name": "Python 3 (ipykernel)",
   "language": "python",
   "name": "python3"
  },
  "language_info": {
   "codemirror_mode": {
    "name": "ipython",
    "version": 3
   },
   "file_extension": ".py",
   "mimetype": "text/x-python",
   "name": "python",
   "nbconvert_exporter": "python",
   "pygments_lexer": "ipython3",
   "version": "3.10.2"
  }
 },
 "nbformat": 4,
 "nbformat_minor": 5
}
