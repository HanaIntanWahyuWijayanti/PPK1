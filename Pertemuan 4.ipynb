{
 "cells": [
  {
   "cell_type": "markdown",
   "id": "7a4ccccb-3197-4a45-8d65-78c605e90922",
   "metadata": {},
   "source": [
    "# Control Flow"
   ]
  },
  {
   "cell_type": "markdown",
   "id": "6f21b6a6-3bda-4876-9007-b98a1349c184",
   "metadata": {},
   "source": [
    "### Ekspresi Boolean\n",
    "Ekspresi Boolean adalah ekspresi yang bernilai true atau false yang digunakan untuk membandingkan dua nilai atau variabel (operand)."
   ]
  },
  {
   "cell_type": "code",
   "execution_count": 1,
   "id": "4bb1c1fb-63ba-4cd4-a529-8cab725f6595",
   "metadata": {
    "tags": []
   },
   "outputs": [
    {
     "data": {
      "text/plain": [
       "True"
      ]
     },
     "execution_count": 1,
     "metadata": {},
     "output_type": "execute_result"
    }
   ],
   "source": [
    "5 == 5"
   ]
  },
  {
   "cell_type": "code",
   "execution_count": 2,
   "id": "ced80d70-1a8d-4002-9d0b-6404c867d355",
   "metadata": {},
   "outputs": [
    {
     "data": {
      "text/plain": [
       "False"
      ]
     },
     "execution_count": 2,
     "metadata": {},
     "output_type": "execute_result"
    }
   ],
   "source": [
    "5 == 6"
   ]
  },
  {
   "cell_type": "markdown",
   "id": "8e5af487-99f8-4be1-9579-2c62bead819d",
   "metadata": {},
   "source": [
    "### Operator Relasi\n",
    "x == y bernilai True jika x sama dengan y\\\n",
    "x != y bernilai True jika tidak sama dengan y\\\n",
    "x > y  bernilai True jika x lebih dari y\\\n",
    "x < y  bernilai True jika x kurang dari y\\\n",
    "x >= y bernilai True jika x lebih dari atau sama dengan y\\\n",
    "x <= y bernilai True jika x kurang dari atau sama dengan y"
   ]
  },
  {
   "cell_type": "markdown",
   "id": "576b66df-e9b6-4763-86ea-532fa73c632f",
   "metadata": {},
   "source": [
    "### Logical Operators\n",
    "and  -> Melakukan pengecekan kondisi yang harus bernilai True untuk kedua operand kanan dan kiri secara bersamaan\\\n",
    "or   -> Melakukan pengecekan kondisi yang dapat bernilai True pada salah satu atau kedua operand kanan dan kiri\\\n",
    "not  -> Melakukan pengecekan kondisi NOT, atau membalikkan kondisi. Contoh NOT(A AND B)"
   ]
  },
  {
   "cell_type": "markdown",
   "id": "c910dddb-fe31-4fc3-a6af-4cb60526c90e",
   "metadata": {},
   "source": [
    "### Conditional Execution\n",
    "1) Conditional if digunakan untuk memilih apakah sebuah pernyataan akan dijalankan atau tidak sesuai kondisi yang diberikan.\n",
    "2) Conditional if-else digunakan untuk memilih pernyataan mana yang akan dijalankan dari 2 pernyataan sesuai kondisi yang diberikan.\n",
    "3) Conditional if-elif-else digunakan untuk memilih pernyataan mana yang akan dijalankan dengan beberapa kondisi pengecekan."
   ]
  },
  {
   "cell_type": "code",
   "execution_count": 4,
   "id": "a58c1494-1b64-4028-9e37-b180e53b94c9",
   "metadata": {},
   "outputs": [
    {
     "name": "stdin",
     "output_type": "stream",
     "text": [
      "Masukkan nilai Anda:  80\n"
     ]
    },
    {
     "name": "stdout",
     "output_type": "stream",
     "text": [
      "Anda lulus ujian! SELAMAT!\n"
     ]
    }
   ],
   "source": [
    "nilai = input(\"Masukkan nilai Anda: \")\n",
    "if int(nilai) >= 70:\n",
    "    print(\"Anda lulus ujian! SELAMAT!\")\n",
    "else:\n",
    "    print(\"Anda belum lulus ujian!\")"
   ]
  },
  {
   "cell_type": "code",
   "execution_count": 5,
   "id": "bbdd83df-805d-4932-926d-7d7fae0f9e3b",
   "metadata": {},
   "outputs": [
    {
     "name": "stdin",
     "output_type": "stream",
     "text": [
      "Masukkan nilai Anda:  9\n"
     ]
    },
    {
     "name": "stdout",
     "output_type": "stream",
     "text": [
      "Anda belum lulus ujian!\n"
     ]
    }
   ],
   "source": [
    "nilai = input(\"Masukkan nilai Anda: \")\n",
    "if int(nilai) < 0 or int(nilai) > 100:\n",
    "    print(\"Nilai Anda TIDAK valid\")\n",
    "elif int(nilai) >= 70:\n",
    "    print(\"Anda lulus ujian! SELAMAT!\")\n",
    "else:\n",
    "    print(\"Anda belum lulus ujian!\")"
   ]
  },
  {
   "cell_type": "code",
   "execution_count": null,
   "id": "865b7feb-6187-4db2-ae80-35e4b3a9d361",
   "metadata": {},
   "outputs": [],
   "source": []
  }
 ],
 "metadata": {
  "kernelspec": {
   "display_name": "Python 3 (ipykernel)",
   "language": "python",
   "name": "python3"
  },
  "language_info": {
   "codemirror_mode": {
    "name": "ipython",
    "version": 3
   },
   "file_extension": ".py",
   "mimetype": "text/x-python",
   "name": "python",
   "nbconvert_exporter": "python",
   "pygments_lexer": "ipython3",
   "version": "3.10.2"
  }
 },
 "nbformat": 4,
 "nbformat_minor": 5
}
